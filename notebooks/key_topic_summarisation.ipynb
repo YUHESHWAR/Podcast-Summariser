{
 "cells": [
  {
   "cell_type": "code",
   "execution_count": 5,
   "id": "b3699076",
   "metadata": {},
   "outputs": [],
   "source": [
    "import re\n",
    "from transformers import pipeline"
   ]
  },
  {
   "cell_type": "code",
   "execution_count": 6,
   "id": "7297b531",
   "metadata": {},
   "outputs": [
    {
     "name": "stdout",
     "output_type": "stream",
     "text": [
      "Loaded 20 segments\n"
     ]
    },
    {
     "data": {
      "text/plain": [
       "[{'start': 1861.53,\n",
       "  'end': 1872.69,\n",
       "  'text': 'wanted, it wrote some code and that was it. Now you can have this back and forth dialogue where you can say, no, no, I meant this, or no, no, fix this bug or no, no, do this. And then of course the next version is the system can debug'},\n",
       " {'start': 5817.89,\n",
       "  'end': 5828.01,\n",
       "  'text': 'in the world? I think the world is going to find out that if you can have 10 times as much code at the same price, you can just use even more to write even more code. The world just needs way more code. It is true that a lot'}]"
      ]
     },
     "execution_count": 6,
     "metadata": {},
     "output_type": "execute_result"
    }
   ],
   "source": [
    "# Load key topic segments from file\n",
    "input_path = \"../data/summaries/key_topics.txt\"\n",
    "\n",
    "with open(input_path, \"r\", encoding=\"utf-8\") as f:\n",
    "    lines = f.readlines()\n",
    "\n",
    "# Parse into list of dicts: start, end, text\n",
    "segments = []\n",
    "pattern = r\"\\[(\\d+\\.\\d+)s - (\\d+\\.\\d+)s\\] (.+)\"\n",
    "\n",
    "for line in lines:\n",
    "    match = re.match(pattern, line.strip())\n",
    "    if match:\n",
    "        start, end, text = match.groups()\n",
    "        segments.append({\n",
    "            \"start\": float(start),\n",
    "            \"end\": float(end),\n",
    "            \"text\": text.strip()\n",
    "        })\n",
    "\n",
    "print(f\"Loaded {len(segments)} segments\")\n",
    "segments[:2]  # preview\n"
   ]
  },
  {
   "cell_type": "code",
   "execution_count": 7,
   "id": "b8a772c1",
   "metadata": {},
   "outputs": [
    {
     "name": "stderr",
     "output_type": "stream",
     "text": [
      "Device set to use cpu\n"
     ]
    },
    {
     "name": "stdout",
     "output_type": "stream",
     "text": [
      "[1861.53s - 1872.69s]\n",
      "Original: wanted, it wrote some code and that was it. Now you can have this back and forth dialogue where you can say, no, no, I meant this, or no, no, fix this bug or no, no, do this. And then of course the next version is the system can debug\n",
      "Summary : The system can now be programmed to fix bugs. It can also be used to debug bugs. \"It wrote some code and that was\n",
      "------------------------------------------------------------\n",
      "[5817.89s - 5828.01s]\n",
      "Original: in the world? I think the world is going to find out that if you can have 10 times as much code at the same price, you can just use even more to write even more code. The world just needs way more code. It is true that a lot\n",
      "Summary : \"The world just needs way more code,\" he says. \"If you can have 10 times as much code at the same price,\n",
      "------------------------------------------------------------\n",
      "[4744.14s - 4754.19s]\n",
      "Original: if created has a lot of power. How do you think we're doing? Like, honest. How do you think we're doing so far? Like, how do you think our decisions are? Like, do you think we're making things not better or worse? What can we do better? Well, the\n",
      "Summary : \"How do you think we're doing so far?\" he asks. \"What can we do better? Well, the if created has\n",
      "------------------------------------------------------------\n"
     ]
    }
   ],
   "source": [
    "# Load summarization pipeline\n",
    "summarizer = pipeline(\"summarization\", model=\"facebook/bart-large-cnn\")\n",
    "\n",
    "# Add summary for each segment\n",
    "for seg in segments:\n",
    "    original_text = seg[\"text\"]\n",
    "\n",
    "    # Truncate long inputs (Bart limit ≈ 512 tokens)\n",
    "    if len(original_text.split()) > 512:\n",
    "        original_text = \" \".join(original_text.split()[:512])\n",
    "\n",
    "    summary = summarizer(original_text, max_length=30, min_length=5, do_sample=False)[0]['summary_text']\n",
    "    seg[\"summary\"] = summary.strip()\n",
    "\n",
    "# Preview\n",
    "for seg in segments[:3]:\n",
    "    print(f\"[{seg['start']}s - {seg['end']}s]\")\n",
    "    print(\"Original:\", seg[\"text\"])\n",
    "    print(\"Summary :\", seg[\"summary\"])\n",
    "    print(\"-\" * 60)"
   ]
  },
  {
   "cell_type": "code",
   "execution_count": 9,
   "id": "defac74b",
   "metadata": {},
   "outputs": [
    {
     "name": "stdout",
     "output_type": "stream",
     "text": [
      "Saved readable timestamp summaries to: ../data/summaries/key_topics_summarized.txt\n"
     ]
    }
   ],
   "source": [
    "# Helper: Convert float seconds to HH:MM:SS format\n",
    "def format_timestamp(seconds):\n",
    "    hrs = int(seconds // 3600)\n",
    "    mins = int((seconds % 3600) // 60)\n",
    "    secs = int(seconds % 60)\n",
    "    return f\"{hrs:02}:{mins:02}:{secs:02}\"\n",
    "\n",
    "# Sort by start time\n",
    "segments_sorted = sorted(segments, key=lambda x: x[\"start\"])\n",
    "\n",
    "# Output path\n",
    "output_path = \"../data/summaries/key_topics_summarized.txt\"\n",
    "\n",
    "# Save formatted results\n",
    "with open(output_path, \"w\", encoding=\"utf-8\") as f:\n",
    "    for seg in segments_sorted:\n",
    "        start_fmt = format_timestamp(seg[\"start\"])\n",
    "        end_fmt = format_timestamp(seg[\"end\"])\n",
    "        f.write(f\"[{start_fmt} - {end_fmt}] {seg['summary']}\\n\")\n",
    "\n",
    "print(f\"Saved readable timestamp summaries to: {output_path}\")"
   ]
  }
 ],
 "metadata": {
  "kernelspec": {
   "display_name": "Python 3",
   "language": "python",
   "name": "python3"
  },
  "language_info": {
   "codemirror_mode": {
    "name": "ipython",
    "version": 3
   },
   "file_extension": ".py",
   "mimetype": "text/x-python",
   "name": "python",
   "nbconvert_exporter": "python",
   "pygments_lexer": "ipython3",
   "version": "3.13.3"
  }
 },
 "nbformat": 4,
 "nbformat_minor": 5
}
