{
 "cells": [
  {
   "cell_type": "code",
   "execution_count": 1,
   "id": "5d2a1ac9",
   "metadata": {},
   "outputs": [],
   "source": [
    "from dotenv import load_dotenv\n",
    "import os\n",
    "import assemblyai as aai"
   ]
  },
  {
   "cell_type": "code",
   "execution_count": 2,
   "id": "600c550d",
   "metadata": {},
   "outputs": [],
   "source": [
    "# Set your AssemblyAI API key\n",
    "load_dotenv(dotenv_path=\"../config.env\")\n",
    "aai.settings.api_key = os.getenv(\"ASSEMBLYAI_API_KEY\")  # Make sure your config.env contains ASSEMBLYAI_API_KEY"
   ]
  },
  {
   "cell_type": "code",
   "execution_count": 2,
   "id": "c4b7a2ba",
   "metadata": {},
   "outputs": [
    {
     "name": "stdout",
     "output_type": "stream",
     "text": [
      "Loaded 20 segments.\n"
     ]
    }
   ],
   "source": [
    "import re\n",
    "\n",
    "# Load segments from the file (same format as before)\n",
    "input_path = \"../data/summaries/contextual_key_topics.txt\"\n",
    "segments = []\n",
    "\n",
    "with open(input_path, \"r\", encoding=\"utf-8\") as f:\n",
    "    for line in f:\n",
    "        line = line.strip()\n",
    "        if not line:\n",
    "            continue\n",
    "\n",
    "        # Match pattern: [123.45s - 678.90s] text\n",
    "        match = re.match(r\"\\[(\\d+\\.?\\d*)s\\s*-\\s*(\\d+\\.?\\d*)s\\]\\s*(.*)\", line)\n",
    "        if match:\n",
    "            start = float(match.group(1))\n",
    "            end = float(match.group(2))\n",
    "            paragraph = match.group(3).strip()\n",
    "\n",
    "            segments.append({\n",
    "                \"start\": start,\n",
    "                \"end\": end,\n",
    "                \"paragraph\": paragraph\n",
    "            })\n",
    "\n",
    "print(f\"Loaded {len(segments)} segments.\")"
   ]
  },
  {
   "cell_type": "code",
   "execution_count": 4,
   "id": "a0e0aa7b",
   "metadata": {},
   "outputs": [
    {
     "name": "stdout",
     "output_type": "stream",
     "text": [
      "Error at 1741.53s: failed to call Lemur summary: Your account does not have access to LeMUR. Please upgrade or contact us at support@assemblyai.com for more information.\n",
      "Error at 5697.89s: failed to call Lemur summary: Your account does not have access to LeMUR. Please upgrade or contact us at support@assemblyai.com for more information.\n",
      "Error at 4624.14s: failed to call Lemur summary: Your account does not have access to LeMUR. Please upgrade or contact us at support@assemblyai.com for more information.\n",
      "Error at 7550.59s: failed to call Lemur summary: Your account does not have access to LeMUR. Please upgrade or contact us at support@assemblyai.com for more information.\n",
      "Error at 7964.9s: failed to call Lemur summary: Your account does not have access to LeMUR. Please upgrade or contact us at support@assemblyai.com for more information.\n",
      "Error at 7996.1s: failed to call Lemur summary: Your account does not have access to LeMUR. Please upgrade or contact us at support@assemblyai.com for more information.\n",
      "Error at 6180.28s: failed to call Lemur summary: Your account does not have access to LeMUR. Please upgrade or contact us at support@assemblyai.com for more information.\n",
      "Error at 1181.75s: failed to call Lemur summary: Your account does not have access to LeMUR. Please upgrade or contact us at support@assemblyai.com for more information.\n",
      "Error at 1202.01s: failed to call Lemur summary: Your account does not have access to LeMUR. Please upgrade or contact us at support@assemblyai.com for more information.\n",
      "Error at 2067.46s: failed to call Lemur summary: Your account does not have access to LeMUR. Please upgrade or contact us at support@assemblyai.com for more information.\n",
      "Error at 5422.28s: failed to call Lemur summary: Your account does not have access to LeMUR. Please upgrade or contact us at support@assemblyai.com for more information.\n",
      "Error at 7528.11s: failed to call Lemur summary: Your account does not have access to LeMUR. Please upgrade or contact us at support@assemblyai.com for more information.\n",
      "Error at 1171.63s: failed to call Lemur summary: Your account does not have access to LeMUR. Please upgrade or contact us at support@assemblyai.com for more information.\n",
      "Error at 4259.53s: failed to call Lemur summary: Your account does not have access to LeMUR. Please upgrade or contact us at support@assemblyai.com for more information.\n",
      "Error at 7130.05s: failed to call Lemur summary: Your account does not have access to LeMUR. Please upgrade or contact us at support@assemblyai.com for more information.\n",
      "Error at 1235.68s: failed to call Lemur summary: Your account does not have access to LeMUR. Please upgrade or contact us at support@assemblyai.com for more information.\n",
      "Error at 1731.45s: failed to call Lemur summary: Your account does not have access to LeMUR. Please upgrade or contact us at support@assemblyai.com for more information.\n",
      "Error at 2519.43s: failed to call Lemur summary: Your account does not have access to LeMUR. Please upgrade or contact us at support@assemblyai.com for more information.\n",
      "Error at 2865.41s: failed to call Lemur summary: Your account does not have access to LeMUR. Please upgrade or contact us at support@assemblyai.com for more information.\n",
      "Error at 4744.46s: failed to call Lemur summary: Your account does not have access to LeMUR. Please upgrade or contact us at support@assemblyai.com for more information.\n",
      "Generated topics for 20 segments.\n"
     ]
    }
   ],
   "source": [
    "# Use the Lemur summarization endpoint correctly\n",
    "\n",
    "lemur = aai.Lemur()\n",
    "\n",
    "# List to store topic results\n",
    "topics = []\n",
    "\n",
    "for seg in segments:\n",
    "    prompt = \"Generate a short, clear, and specific topic title that best describes the main subject of this transcript segment.\"\n",
    "    try:\n",
    "        response = lemur.summarize(\n",
    "            input_text=seg[\"paragraph\"],\n",
    "            context=prompt,\n",
    "            answer_format=\"short\"\n",
    "        )\n",
    "        topic_text = response.response\n",
    "    except Exception as e:\n",
    "        topic_text = \"[Error generating topic]\"\n",
    "        print(f\"Error at {seg['start']}s: {e}\")\n",
    "\n",
    "    topics.append({\n",
    "        \"start\": seg[\"start\"],\n",
    "        \"end\": seg[\"end\"],\n",
    "        \"topic\": topic_text\n",
    "    })\n",
    "\n",
    "print(f\"Generated topics for {len(topics)} segments.\")\n"
   ]
  },
  {
   "cell_type": "code",
   "execution_count": null,
   "id": "6e24c744",
   "metadata": {},
   "outputs": [],
   "source": []
  }
 ],
 "metadata": {
  "kernelspec": {
   "display_name": "Python 3",
   "language": "python",
   "name": "python3"
  },
  "language_info": {
   "codemirror_mode": {
    "name": "ipython",
    "version": 3
   },
   "file_extension": ".py",
   "mimetype": "text/x-python",
   "name": "python",
   "nbconvert_exporter": "python",
   "pygments_lexer": "ipython3",
   "version": "3.13.3"
  }
 },
 "nbformat": 4,
 "nbformat_minor": 5
}
