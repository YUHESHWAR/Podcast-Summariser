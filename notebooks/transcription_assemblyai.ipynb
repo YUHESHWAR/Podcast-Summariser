{
 "cells": [
  {
   "cell_type": "code",
   "execution_count": 1,
   "id": "e725b4eb",
   "metadata": {},
   "outputs": [],
   "source": [
    "# Install this first if you haven't\n",
    "# pip install assemblyai\n",
    "import assemblyai as aai\n",
    "import os\n",
    "from dotenv import load_dotenv\n"
   ]
  },
  {
   "cell_type": "code",
   "execution_count": 2,
   "id": "b307cad2",
   "metadata": {},
   "outputs": [],
   "source": [
    "# Set your AssemblyAI API key\n",
    "load_dotenv(dotenv_path=\"../config.env\")\n",
    "aai.settings.api_key = os.getenv(\"ASSEMBLYAI_API_KEY\")  # Reads the key from your .env file\n",
    "\n",
    "# Ensure the transcription output directory exists\n",
    "os.makedirs(\"../data/transcriptions\", exist_ok=True)\n"
   ]
  },
  {
   "cell_type": "code",
   "execution_count": 11,
   "id": "6c14e160",
   "metadata": {},
   "outputs": [
    {
     "name": "stdout",
     "output_type": "stream",
     "text": [
      "Transcription complete.\n",
      "Transcript ID: d0468eca-b3e7-41a8-8d6e-20795b83eac8\n"
     ]
    }
   ],
   "source": [
    "# Create Transcriber\n",
    "transcriber = aai.Transcriber()\n",
    "\n",
    "# Transcribe (without needing a config)\n",
    "transcript = transcriber.transcribe(audio_path)\n",
    "\n",
    "print(\"Transcription complete.\")\n",
    "print(\"Transcript ID:\", transcript.id)"
   ]
  },
  {
   "cell_type": "code",
   "execution_count": null,
   "id": "afce326e",
   "metadata": {},
   "outputs": [
    {
     "name": "stdout",
     "output_type": "stream",
     "text": [
      "Transcript saved to: ../data/transcriptions/transcript.txt\n"
     ]
    }
   ],
   "source": [
    "# Define output file path\n",
    "output_path = \"../data/transcriptions/transcript.txt\"\n",
    "\n",
    "# Write each word with timestamps grouped into logical chunks (~10 seconds)\n",
    "with open(output_path, \"w\", encoding=\"utf-8\") as f:\n",
    "    line = \"\"\n",
    "    last_start = None\n",
    "    for word in transcript.words:\n",
    "        if last_start is None:\n",
    "            last_start = word.start\n",
    "        line += word.text + \" \"\n",
    "        if word.end - last_start > 10000:  # 10 seconds chunk\n",
    "            start = round(last_start / 1000, 2)\n",
    "            end = round(word.end / 1000, 2)\n",
    "            f.write(f\"[{start}s - {end}s] {line.strip()}\\n\")\n",
    "            line = \"\"\n",
    "            last_start = None\n",
    "\n",
    "print(f\"Transcript saved to: {output_path}\")"
   ]
  }
 ],
 "metadata": {
  "kernelspec": {
   "display_name": "Python 3",
   "language": "python",
   "name": "python3"
  },
  "language_info": {
   "codemirror_mode": {
    "name": "ipython",
    "version": 3
   },
   "file_extension": ".py",
   "mimetype": "text/x-python",
   "name": "python",
   "nbconvert_exporter": "python",
   "pygments_lexer": "ipython3",
   "version": "3.13.3"
  }
 },
 "nbformat": 4,
 "nbformat_minor": 5
}
