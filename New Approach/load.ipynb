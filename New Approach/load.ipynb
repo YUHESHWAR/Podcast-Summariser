{
 "cells": [
  {
   "cell_type": "code",
   "execution_count": null,
   "id": "31a6cea5",
   "metadata": {},
   "outputs": [],
   "source": [
    "from transformers import AutoTokenizer, AutoModelForSeq2SeqLM\n",
    "from peft import PeftModel\n",
    "\n",
    "# Load tokenizer\n",
    "tokenizer = AutoTokenizer.from_pretrained(\"../models/flan_t5_lora_summary\")\n",
    "\n",
    "# Load base model\n",
    "base_model = AutoModelForSeq2SeqLM.from_pretrained(\"google/flan-t5-base\")\n",
    "\n",
    "# Load LoRA adapter\n",
    "model = PeftModel.from_pretrained(base_model, \"../models/flan_t5_lora_summary\")\n"
   ]
  }
 ],
 "metadata": {
  "language_info": {
   "name": "python"
  }
 },
 "nbformat": 4,
 "nbformat_minor": 5
}
