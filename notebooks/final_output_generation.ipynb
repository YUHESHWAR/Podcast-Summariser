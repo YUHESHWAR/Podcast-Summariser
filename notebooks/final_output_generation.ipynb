{
 "cells": [
  {
   "cell_type": "code",
   "execution_count": 1,
   "id": "90bd9888",
   "metadata": {},
   "outputs": [],
   "source": [
    "import os\n",
    "import pandas as pd"
   ]
  },
  {
   "cell_type": "code",
   "execution_count": 2,
   "id": "cd8e3a1f",
   "metadata": {},
   "outputs": [
    {
     "name": "stdout",
     "output_type": "stream",
     "text": [
      "Loaded clustered segments and topic summaries.\n",
      "\n",
      "🧩 Segments Preview:\n",
      "   cluster            timestamp  \\\n",
      "0        0       0.16s - 10.92s   \n",
      "1        0  1112.21s - 1122.77s   \n",
      "2        0  1153.83s - 1164.26s   \n",
      "3        0    125.81s - 136.06s   \n",
      "4        0  1344.76s - 1355.68s   \n",
      "\n",
      "                                                text  \n",
      "0  We have been a misunderstood and badly mocked ...  \n",
      "1  Second, we are building in public and we are p...  \n",
      "2  the technology and shape it with us and provid...  \n",
      "3  humans to create, to flourish, to escape the w...  \n",
      "4  and I also like, I get why this is such an imp...  \n",
      "\n",
      "Summaries Preview:\n",
      "   cluster                                            summary\n",
      "0        0  \"We have been a misunderstood and badly mocked...\n",
      "1        1  Some of the things that seem like they should ...\n",
      "2        2  \"I never, never really thought I would get the...\n",
      "3        3  There's all these ways that the kind of analog...\n",
      "4        4  Chat GPT seemed to struggle to understand how ...\n"
     ]
    }
   ],
   "source": [
    "# Load clustered transcript segments\n",
    "segments_path = \"../data/transcriptions/clustered_segments.csv\"\n",
    "df_segments = pd.read_csv(segments_path)\n",
    "\n",
    "# Load topic summaries\n",
    "summaries_path = \"../data/summaries/topic_summaries.csv\"\n",
    "df_summaries = pd.read_csv(summaries_path)\n",
    "\n",
    "print(\"Loaded clustered segments and topic summaries.\")\n",
    "print(\"\\n🧩 Segments Preview:\")\n",
    "print(df_segments.head())\n",
    "\n",
    "print(\"\\nSummaries Preview:\")\n",
    "print(df_summaries.head())\n"
   ]
  },
  {
   "cell_type": "code",
   "execution_count": 3,
   "id": "f48dc51a",
   "metadata": {},
   "outputs": [
    {
     "name": "stdout",
     "output_type": "stream",
     "text": [
      "✅ Final topic summary timeline:\n",
      "[0.16s - 10.92s] Topic 0: \"We have been a misunderstood and badly mocked org for a long time,\" he says. \"We put out things that are going to be deeply humans to create\"\n",
      "[10.92s - 21.04s] Topic 7: When I was a little kid, I thought building AI would be like different than the number of characters it said nice about some other person. If you hand people an AGI and that's what they want to do, I wouldn't have believed you. We have to be involved.\n",
      "[1006.78s - 1016.94s] Topic 6: Jordan Peterson asked the system to can you rewrite it with an equal number, equal length string? And he showed that the response that contained positive things about Biden was much longer or longer than that about Trump.\n",
      "[1027.04s - 1037.48s] Topic 4: Chat GPT seemed to struggle to understand how to help us find the good things and the bad things. The collective intelligence and ability of the outside world is imperfect. We want to make our mistakes while the stakes are low.\n",
      "[1037.48s - 1048.04s] Topic 2: \"I never, never really thought I would get the chance to work on it. But if you had told me that not only I would be working on it, but that after making a very, very larval proto team\" \"I think this is where we'll see some of the most impact. In the short term\"\n",
      "[1048.12s - 1058.56s] Topic 5: \"It felt really all too human pursuit of happiness. It is terrifying because of the power that superintelligent AGI wields to destroy human civilization intentionally or unintentionally\"\n",
      "[105.09s - 115.57s] Topic 3: There's all these ways that the kind of analogies from humans to AIs, like breakdown and the parallelism, the sort of unlimited rollouts. both optimists and cynics, is important. These are not merely technical conversations. About AI, these are conversations about power, about with considering AI safety.\n",
      "[1080.61s - 1090.81s] Topic 1: Some of the things that seem like they should be obvious and easy these models really struggle with. The way they're architected, that won't be very accurate. No 2 people are ever going to agree that one single model is unbiased on every topic.\n"
     ]
    }
   ],
   "source": [
    "# For each topic, get the earliest timestamp as the \"start time\" for that topic\n",
    "topic_starts = (\n",
    "    df_segments.groupby(\"cluster\")[\"timestamp\"]\n",
    "    .first()\n",
    "    .reset_index()\n",
    "    .rename(columns={\"timestamp\": \"start_time\"})\n",
    ")\n",
    "\n",
    "# Merge start times with summaries\n",
    "final_output = pd.merge(df_summaries, topic_starts, on=\"cluster\")\n",
    "final_output = final_output.sort_values(by=\"start_time\").reset_index(drop=True)\n",
    "\n",
    "# Display result\n",
    "print(\"✅ Final topic summary timeline:\")\n",
    "for _, row in final_output.iterrows():\n",
    "    print(f\"[{row['start_time']}] Topic {row['cluster']}: {row['summary']}\")"
   ]
  },
  {
   "cell_type": "code",
   "execution_count": 4,
   "id": "e6563156",
   "metadata": {},
   "outputs": [],
   "source": [
    "import json\n",
    "\n",
    "# Save as plain text\n",
    "txt_output_path = \"../data/summaries/final_summary.txt\"\n",
    "with open(txt_output_path, \"w\", encoding=\"utf-8\") as f:\n",
    "    for _, row in final_output.iterrows():\n",
    "        f.write(f\"[{row['start_time']}] Topic {row['cluster']}: {row['summary']}\\n\")"
   ]
  },
  {
   "cell_type": "code",
   "execution_count": null,
   "id": "f33ea1f6",
   "metadata": {},
   "outputs": [],
   "source": []
  }
 ],
 "metadata": {
  "kernelspec": {
   "display_name": "Python 3",
   "language": "python",
   "name": "python3"
  },
  "language_info": {
   "codemirror_mode": {
    "name": "ipython",
    "version": 3
   },
   "file_extension": ".py",
   "mimetype": "text/x-python",
   "name": "python",
   "nbconvert_exporter": "python",
   "pygments_lexer": "ipython3",
   "version": "3.13.3"
  }
 },
 "nbformat": 4,
 "nbformat_minor": 5
}
