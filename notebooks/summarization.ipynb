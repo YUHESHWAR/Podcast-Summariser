{
 "cells": [
  {
   "cell_type": "code",
   "execution_count": 1,
   "id": "f82f2eac",
   "metadata": {},
   "outputs": [],
   "source": [
    "import os\n",
    "import pandas as pd\n",
    "from transformers import pipeline"
   ]
  },
  {
   "cell_type": "code",
   "execution_count": 2,
   "id": "d1632b96",
   "metadata": {},
   "outputs": [
    {
     "name": "stdout",
     "output_type": "stream",
     "text": [
      "Loaded clustered segments:\n",
      "   cluster            timestamp  \\\n",
      "0        0       0.16s - 10.92s   \n",
      "1        0  1112.21s - 1122.77s   \n",
      "2        0  1153.83s - 1164.26s   \n",
      "3        0    125.81s - 136.06s   \n",
      "4        0  1344.76s - 1355.68s   \n",
      "\n",
      "                                                text  \n",
      "0  We have been a misunderstood and badly mocked ...  \n",
      "1  Second, we are building in public and we are p...  \n",
      "2  the technology and shape it with us and provid...  \n",
      "3  humans to create, to flourish, to escape the w...  \n",
      "4  and I also like, I get why this is such an imp...  \n"
     ]
    }
   ],
   "source": [
    "# Load the clustered transcript segments\n",
    "input_path = \"../data/transcriptions/clustered_segments.csv\"\n",
    "df = pd.read_csv(input_path)\n",
    "\n",
    "# Preview the data\n",
    "print(\"Loaded clustered segments:\")\n",
    "print(df.head())\n"
   ]
  },
  {
   "cell_type": "code",
   "execution_count": 3,
   "id": "fe49d95f",
   "metadata": {},
   "outputs": [
    {
     "data": {
      "application/vnd.jupyter.widget-view+json": {
       "model_id": "1c885bfb9c264ffd9b62f1d6c5ab1960",
       "version_major": 2,
       "version_minor": 0
      },
      "text/plain": [
       "config.json:   0%|          | 0.00/1.58k [00:00<?, ?B/s]"
      ]
     },
     "metadata": {},
     "output_type": "display_data"
    },
    {
     "name": "stderr",
     "output_type": "stream",
     "text": [
      "C:\\Users\\yuhes\\AppData\\Roaming\\Python\\Python313\\site-packages\\huggingface_hub\\file_download.py:143: UserWarning: `huggingface_hub` cache-system uses symlinks by default to efficiently store duplicated files but your machine does not support them in C:\\Users\\yuhes\\.cache\\huggingface\\hub\\models--facebook--bart-large-cnn. Caching files will still work but in a degraded version that might require more space on your disk. This warning can be disabled by setting the `HF_HUB_DISABLE_SYMLINKS_WARNING` environment variable. For more details, see https://huggingface.co/docs/huggingface_hub/how-to-cache#limitations.\n",
      "To support symlinks on Windows, you either need to activate Developer Mode or to run Python as an administrator. In order to activate developer mode, see this article: https://docs.microsoft.com/en-us/windows/apps/get-started/enable-your-device-for-development\n",
      "  warnings.warn(message)\n",
      "Xet Storage is enabled for this repo, but the 'hf_xet' package is not installed. Falling back to regular HTTP download. For better performance, install the package with: `pip install huggingface_hub[hf_xet]` or `pip install hf_xet`\n"
     ]
    },
    {
     "data": {
      "application/vnd.jupyter.widget-view+json": {
       "model_id": "45528e2fe5ef46ba93425bafdd1c54d8",
       "version_major": 2,
       "version_minor": 0
      },
      "text/plain": [
       "model.safetensors:   0%|          | 0.00/1.63G [00:00<?, ?B/s]"
      ]
     },
     "metadata": {},
     "output_type": "display_data"
    },
    {
     "data": {
      "application/vnd.jupyter.widget-view+json": {
       "model_id": "8a3eca156e6d4826927b5ca1a8807c43",
       "version_major": 2,
       "version_minor": 0
      },
      "text/plain": [
       "generation_config.json:   0%|          | 0.00/363 [00:00<?, ?B/s]"
      ]
     },
     "metadata": {},
     "output_type": "display_data"
    },
    {
     "data": {
      "application/vnd.jupyter.widget-view+json": {
       "model_id": "c6a7618adfcc45b0bb18dae384d322ce",
       "version_major": 2,
       "version_minor": 0
      },
      "text/plain": [
       "vocab.json:   0%|          | 0.00/899k [00:00<?, ?B/s]"
      ]
     },
     "metadata": {},
     "output_type": "display_data"
    },
    {
     "data": {
      "application/vnd.jupyter.widget-view+json": {
       "model_id": "a0e53bd7f81e4887aeb7b380f6551a57",
       "version_major": 2,
       "version_minor": 0
      },
      "text/plain": [
       "merges.txt:   0%|          | 0.00/456k [00:00<?, ?B/s]"
      ]
     },
     "metadata": {},
     "output_type": "display_data"
    },
    {
     "data": {
      "application/vnd.jupyter.widget-view+json": {
       "model_id": "5982800dca3a46c68d66766608f8bdc6",
       "version_major": 2,
       "version_minor": 0
      },
      "text/plain": [
       "tokenizer.json:   0%|          | 0.00/1.36M [00:00<?, ?B/s]"
      ]
     },
     "metadata": {},
     "output_type": "display_data"
    },
    {
     "name": "stderr",
     "output_type": "stream",
     "text": [
      "Device set to use cpu\n"
     ]
    },
    {
     "name": "stdout",
     "output_type": "stream",
     "text": [
      "Summarization model loaded successfully.\n"
     ]
    }
   ],
   "source": [
    "# Load the summarization model pipeline\n",
    "summarizer = pipeline(\"summarization\", model=\"facebook/bart-large-cnn\")\n",
    "\n",
    "print(\"Summarization model loaded successfully.\")\n"
   ]
  },
  {
   "cell_type": "code",
   "execution_count": 4,
   "id": "4098f88f",
   "metadata": {},
   "outputs": [
    {
     "name": "stdout",
     "output_type": "stream",
     "text": [
      "Summaries generated for each topic cluster.\n"
     ]
    }
   ],
   "source": [
    "# Group by cluster and concatenate text within each group\n",
    "summaries = []\n",
    "for cluster_id, group in df.groupby(\"cluster\"):\n",
    "    combined_text = \" \".join(group[\"text\"].tolist())\n",
    "    \n",
    "    # Truncate input if too long for the model\n",
    "    if len(combined_text) > 1024:\n",
    "        combined_text = combined_text[:1024]\n",
    "    \n",
    "    # Generate summary\n",
    "    summary = summarizer(combined_text, max_length=100, min_length=25, do_sample=False)[0][\"summary_text\"]\n",
    "    \n",
    "    summaries.append({\n",
    "        \"cluster\": cluster_id,\n",
    "        \"summary\": summary\n",
    "    })\n",
    "\n",
    "print(\"Summaries generated for each topic cluster.\")"
   ]
  },
  {
   "cell_type": "code",
   "execution_count": 5,
   "id": "e10e1577",
   "metadata": {},
   "outputs": [
    {
     "name": "stdout",
     "output_type": "stream",
     "text": [
      "Topic summaries saved to: ../data/summaries/topic_summaries.csv\n"
     ]
    }
   ],
   "source": [
    "# Convert the summaries to a DataFrame\n",
    "summary_df = pd.DataFrame(summaries)\n",
    "\n",
    "# Save to CSV\n",
    "output_path = \"../data/summaries/topic_summaries.csv\"\n",
    "os.makedirs(\"../data/summaries\", exist_ok=True)\n",
    "summary_df.to_csv(output_path, index=False, encoding=\"utf-8\")\n",
    "\n",
    "print(f\"Topic summaries saved to: {output_path}\")\n"
   ]
  },
  {
   "cell_type": "code",
   "execution_count": null,
   "id": "866b73f4",
   "metadata": {},
   "outputs": [],
   "source": []
  }
 ],
 "metadata": {
  "kernelspec": {
   "display_name": "Python 3",
   "language": "python",
   "name": "python3"
  },
  "language_info": {
   "codemirror_mode": {
    "name": "ipython",
    "version": 3
   },
   "file_extension": ".py",
   "mimetype": "text/x-python",
   "name": "python",
   "nbconvert_exporter": "python",
   "pygments_lexer": "ipython3",
   "version": "3.13.3"
  }
 },
 "nbformat": 4,
 "nbformat_minor": 5
}
