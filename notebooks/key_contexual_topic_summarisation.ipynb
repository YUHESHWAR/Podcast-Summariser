{
 "cells": [
  {
   "cell_type": "code",
   "execution_count": null,
   "id": "8da99816",
   "metadata": {},
   "outputs": [
    {
     "name": "stderr",
     "output_type": "stream",
     "text": [
      "Device set to use cpu\n"
     ]
    },
    {
     "name": "stdout",
     "output_type": "stream",
     "text": [
      "Summarizer is ready.\n"
     ]
    }
   ],
   "source": [
    "from transformers import pipeline\n",
    "import re\n",
    "\n",
    "# Initialize the summarization pipeline using BART\n",
    "summarizer = pipeline(\"summarization\", model=\"facebook/bart-large-cnn\")\n",
    "\n",
    "print(\"Summarizer is ready.\")"
   ]
  },
  {
   "cell_type": "code",
   "execution_count": null,
   "id": "52e4b7b1",
   "metadata": {},
   "outputs": [
    {
     "name": "stdout",
     "output_type": "stream",
     "text": [
      "Loaded 20 contextual segments.\n"
     ]
    }
   ],
   "source": [
    "input_path = \"../data/summaries/contextual_key_topics.txt\"\n",
    "contextual_paragraphs = []\n",
    "\n",
    "with open(input_path, \"r\", encoding=\"utf-8\") as f:\n",
    "    for line in f:\n",
    "        line = line.strip()\n",
    "        if not line:\n",
    "            continue\n",
    "\n",
    "        # Match pattern like: [123.45s - 678.90s] actual text\n",
    "        match = re.match(r\"\\[(\\d+\\.?\\d*)s\\s*-\\s*(\\d+\\.?\\d*)s\\]\\s*(.*)\", line)\n",
    "        if match:\n",
    "            start = float(match.group(1))\n",
    "            end = float(match.group(2))\n",
    "            paragraph = match.group(3).strip()\n",
    "\n",
    "            contextual_paragraphs.append({\n",
    "                \"start\": start,\n",
    "                \"end\": end,\n",
    "                \"paragraph\": paragraph\n",
    "            })\n",
    "        else:\n",
    "            print(f\"Skipping line: {line}\")\n",
    "\n",
    "print(f\"Loaded {len(contextual_paragraphs)} contextual segments.\")\n"
   ]
  },
  {
   "cell_type": "code",
   "execution_count": null,
   "id": "33302c5c",
   "metadata": {},
   "outputs": [],
   "source": [
    "summaries = []\n",
    "\n",
    "for para in contextual_paragraphs:\n",
    "    text = para[\"paragraph\"]\n",
    "\n",
    "    # Truncate to first 500 words if too long\n",
    "    if len(text.split()) > 500:\n",
    "        text = \" \".join(text.split()[:500])\n",
    "\n",
    "    try:\n",
    "        result = summarizer(text, max_length=60, min_length=15, do_sample=False)\n",
    "        summary_text = result[0][\"summary_text\"]\n",
    "    except Exception as e:\n",
    "        summary_text = \"[Error during summarization]\"\n",
    "        print(f\"Error summarizing segment starting at {para['start']}s: {e}\")\n",
    "\n",
    "    summaries.append({\n",
    "        \"start\": para[\"start\"],\n",
    "        \"end\": para[\"end\"],\n",
    "        \"summary\": summary_text\n",
    "    })\n",
    "\n",
    "print(f\"Generated {len(summaries)} summaries.\")\n"
   ]
  },
  {
   "cell_type": "code",
   "execution_count": null,
   "id": "4d4b0caf",
   "metadata": {},
   "outputs": [],
   "source": [
    "output_path = \"../data/summaries/contextual_key_summaries.txt\"\n",
    "\n",
    "with open(output_path, \"w\", encoding=\"utf-8\") as f:\n",
    "    for s in summaries:\n",
    "        f.write(f\"[{s['start']}s - {s['end']}s] {s['summary']}\\n\\n\")\n",
    "\n",
    "print(f\"Saved {len(summaries)} summaries to: {output_path}\")"
   ]
  }
 ],
 "metadata": {
  "kernelspec": {
   "display_name": "Python 3",
   "language": "python",
   "name": "python3"
  },
  "language_info": {
   "codemirror_mode": {
    "name": "ipython",
    "version": 3
   },
   "file_extension": ".py",
   "mimetype": "text/x-python",
   "name": "python",
   "nbconvert_exporter": "python",
   "pygments_lexer": "ipython3",
   "version": "3.13.3"
  }
 },
 "nbformat": 4,
 "nbformat_minor": 5
}
