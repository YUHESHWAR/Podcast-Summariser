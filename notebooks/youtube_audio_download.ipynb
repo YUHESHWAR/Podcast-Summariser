{
 "cells": [
  {
   "cell_type": "code",
   "execution_count": 1,
   "id": "a8a34536",
   "metadata": {},
   "outputs": [],
   "source": [
    "# Required packages for downloading audio from YouTube\n",
    "from pytube import YouTube\n",
    "import yt_dlp\n",
    "import os"
   ]
  },
  {
   "cell_type": "code",
   "execution_count": 3,
   "id": "5b5aead5",
   "metadata": {},
   "outputs": [],
   "source": [
    "# Create necessary directories if they don't exist\n",
    "os.makedirs(\"../data/raw_audio\", exist_ok=True)"
   ]
  },
  {
   "cell_type": "code",
   "execution_count": 2,
   "id": "17232ce8",
   "metadata": {},
   "outputs": [],
   "source": [
    "# Function to download audio stream correctly using pytube\n",
    "def download_audio_with_ytdlp(youtube_url, output_path=\"../data/raw_audio/audio1.%(ext)s\"):\n",
    "    ydl_opts = {\n",
    "        'format': 'bestaudio/best',\n",
    "        'outtmpl': output_path,\n",
    "        'quiet': False,\n",
    "        'noplaylist': True\n",
    "    }\n",
    "\n",
    "    try:\n",
    "        with yt_dlp.YoutubeDL(ydl_opts) as ydl:\n",
    "            ydl.download([youtube_url])\n",
    "        print(f\"Audio downloaded to: {output_path}\")\n",
    "    except Exception as e:\n",
    "        print(f\"Failed to download audio: {e}\")"
   ]
  },
  {
   "cell_type": "code",
   "execution_count": 3,
   "id": "2cdedaac",
   "metadata": {},
   "outputs": [
    {
     "name": "stdout",
     "output_type": "stream",
     "text": [
      "[youtube] Extracting URL: https://www.youtube.com/watch?v=1zjcnnx7igc\n",
      "[youtube] 1zjcnnx7igc: Downloading webpage\n",
      "[youtube] 1zjcnnx7igc: Downloading tv client config\n",
      "[youtube] 1zjcnnx7igc: Downloading tv player API JSON\n",
      "[youtube] 1zjcnnx7igc: Downloading ios player API JSON\n",
      "[youtube] 1zjcnnx7igc: Downloading m3u8 information\n",
      "[info] 1zjcnnx7igc: Downloading 1 format(s): 251-1\n",
      "[download] Destination: ..\\data\\raw_audio\\audio1.webm\n",
      "[download] 100% of   28.27MiB in 00:00:01 at 28.04MiB/s    \n",
      "Audio downloaded to: ../data/raw_audio/audio1.%(ext)s\n"
     ]
    }
   ],
   "source": [
    "# Example usage\n",
    "youtube_url = \"https://www.youtube.com/watch?v=1zjcnnx7igc\"  # Replace with your link\n",
    "download_audio_with_ytdlp(youtube_url)"
   ]
  }
 ],
 "metadata": {
  "kernelspec": {
   "display_name": "Python 3",
   "language": "python",
   "name": "python3"
  },
  "language_info": {
   "codemirror_mode": {
    "name": "ipython",
    "version": 3
   },
   "file_extension": ".py",
   "mimetype": "text/x-python",
   "name": "python",
   "nbconvert_exporter": "python",
   "pygments_lexer": "ipython3",
   "version": "3.13.3"
  }
 },
 "nbformat": 4,
 "nbformat_minor": 5
}
